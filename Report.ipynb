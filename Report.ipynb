{
 "cells": [
  {
   "cell_type": "markdown",
   "metadata": {},
   "source": [
    "# Introduction"
   ]
  },
  {
   "cell_type": "markdown",
   "metadata": {},
   "source": [
    "People who live in the city can find innumerable types of stores to consume what they want. At the same time, too many stores located in the same neighborhood produce high competition between businesses. That said, a customer with multiple stores of the same type around him will be assumed to be a risky customer.\n",
    "Any company wants to keep their clients to ensure future sales, but this comes at a cost, whether in advertising, promotions, discounts or other. The main problem here it is, how can I identify which customers of my client portfolio are more likely to leave with another shop that offer similar products. \n",
    "In summary, the business problem it is identifies which customers have more similar shops around their addresses and then classify them as a client with a lot of offer or with the poor offer around him.\n",
    "This tool it is going to be interested for any enterprise or individual business to classify their client portfolio and take decisions about what to do in the future.\n"
   ]
  },
  {
   "cell_type": "markdown",
   "metadata": {},
   "source": [
    "# Data"
   ]
  },
  {
   "cell_type": "markdown",
   "metadata": {},
   "source": [
    "To solve this problem, we only need a dataset with all the home address of our client portfolio. \n",
    "Once we have this, Foursquare API is going to help us to find each latitude and longitude of the address of each customer and then it is necessary obtained the number of places belonging to the same category that are nearby to that specific customer.\n",
    "In this case, I am going to do this exercise with my uncle's business. A few months ago, he started a business that provides coffee and food as a delivery. For the moment I have the address list of his customers and it is going to be the data to use in this Capstone Project.\n",
    "In summary, using the address of each customer, Foursquare is going to find the latitude and longitude. After this, Foursquare is going to help us provide the frequency of coffee shops that are nearby to that specific customer. \n",
    "This process must repeat with every customer to then normalize the data and finally classify each one in a cluster.\n"
   ]
  },
  {
   "cell_type": "code",
   "execution_count": null,
   "metadata": {},
   "outputs": [],
   "source": []
  }
 ],
 "metadata": {
  "kernelspec": {
   "display_name": "Python",
   "language": "python",
   "name": "conda-env-python-py"
  },
  "language_info": {
   "codemirror_mode": {
    "name": "ipython",
    "version": 3
   },
   "file_extension": ".py",
   "mimetype": "text/x-python",
   "name": "python",
   "nbconvert_exporter": "python",
   "pygments_lexer": "ipython3",
   "version": "3.6.11"
  }
 },
 "nbformat": 4,
 "nbformat_minor": 4
}
